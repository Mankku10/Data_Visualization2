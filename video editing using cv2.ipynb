{
 "cells": [
  {
   "cell_type": "code",
   "execution_count": 2,
   "metadata": {},
   "outputs": [
    {
     "ename": "IndentationError",
     "evalue": "unindent does not match any outer indentation level (<tokenize>, line 29)",
     "output_type": "error",
     "traceback": [
      "\u001b[1;36m  File \u001b[1;32m\"<tokenize>\"\u001b[1;36m, line \u001b[1;32m29\u001b[0m\n\u001b[1;33m    out.write(frame)\u001b[0m\n\u001b[1;37m    ^\u001b[0m\n\u001b[1;31mIndentationError\u001b[0m\u001b[1;31m:\u001b[0m unindent does not match any outer indentation level\n"
     ]
    }
   ],
   "source": [
    "import cv2\n",
    "import numpy as np\n",
    "import matplotlib.pyplot as plt\n",
    "\n",
    "logo = cv2.imread(\"coding2.png\",cv2.IMREAD_UNCHANGED)\n",
    "\n",
    "rgba_logo = cv2.cvtColor(logo, cv2.COLOR_BGRA2RGBA)\n",
    "\n",
    "small_logo = cv2.resize(rgba_logo ,(500,300))\n",
    "\n",
    "video = cv2.VideoCapture(\"input.mp4\")\n",
    "\n",
    "video_width = int(video.get(3))\n",
    "video_height = int(video.get(4))\n",
    "\n",
    "out = cv2.VideoWriter(\"final.mpg\",cv2.VideoWriter_fourcc('m','n','p','q'),10,(video_width,video_height))\n",
    "shift = 0\n",
    "\n",
    "while True:\n",
    "    ret ,frame = video.read()\n",
    "    \n",
    "    if ret == True :\n",
    "         for i in small_logo[0]:\n",
    "                for j in small_logo[1]:\n",
    "                    if small_logo[i,j][3] != 0:\n",
    "                        frame[i,j+shift] = small_logo[i,j]\n",
    "                        \n",
    "                        \n",
    "        out.write(frame)\n",
    "        cv2.imshow(\"frame\",frame)\n",
    "        shift += 7\n",
    "        \n",
    "        if cv2.waitKey(7) & 0xff = ord(\"q\"):\n",
    "            break\n",
    "        \n",
    "    else:\n",
    "        break\n",
    "        \n",
    "out.release()\n",
    "video.release()\n",
    "cv2.destroyAllWindows()\n",
    "\n",
    "\n",
    "\n",
    "\n",
    "\n"
   ]
  },
  {
   "cell_type": "code",
   "execution_count": null,
   "metadata": {},
   "outputs": [],
   "source": []
  }
 ],
 "metadata": {
  "kernelspec": {
   "display_name": "Python 3",
   "language": "python",
   "name": "python3"
  },
  "language_info": {
   "codemirror_mode": {
    "name": "ipython",
    "version": 3
   },
   "file_extension": ".py",
   "mimetype": "text/x-python",
   "name": "python",
   "nbconvert_exporter": "python",
   "pygments_lexer": "ipython3",
   "version": "3.7.0"
  }
 },
 "nbformat": 4,
 "nbformat_minor": 2
}
